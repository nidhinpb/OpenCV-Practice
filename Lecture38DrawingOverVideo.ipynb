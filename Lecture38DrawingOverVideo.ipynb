{
 "cells": [
  {
   "cell_type": "code",
   "execution_count": 1,
   "metadata": {},
   "outputs": [],
   "source": [
    "import cv2\n",
    "cap=cv2.VideoCapture(0)\n",
    "width=int(cap.get(cv2.CAP_PROP_FRAME_WIDTH))\n",
    "height=int(cap.get(cv2.CAP_PROP_FRAME_HEIGHT))\n",
    "x=width//2\n",
    "y=height//2\n",
    "\n",
    "#widtha nd height of rectangle\n",
    "w=width//4\n",
    "h=height//4\n",
    "#bottom right x+w,y+h\n",
    "while True:\n",
    "    ret,frame=cap.read()\n",
    "    cv2.rectangle(frame,(x,y),(x+w,y+h),color=(0,0,255),thickness=4)\n",
    "    cv2.imshow(\"frame\",frame)\n",
    "    if cv2.waitKey(1) & 0xFF == ord('q'):\n",
    "        break\n",
    "cap.release()\n",
    "cv2.destroyAllWindows()"
   ]
  },
  {
   "cell_type": "code",
   "execution_count": 2,
   "metadata": {},
   "outputs": [],
   "source": [
    "import cv2\n",
    "cap=cv2.VideoCapture(0)\n",
    "def draw_rectangle(events,x,y,flags,param):\n",
    "    global pt1,pt2,topLeft_clicked,botRight_clicked\n",
    "    if events==cv2.EVENT_LBUTTONDOWN:\n",
    "        if topLeft_clicked and botRight_clicked:#rectangle has been drawn\n",
    "            pt1=(0,0)\n",
    "            pt2=(0,0)\n",
    "            topLeft_clicked=False\n",
    "            botRight_clicked=False\n",
    "        if topLeft_clicked==False:\n",
    "            pt1=(x,y)\n",
    "            topLeft_clicked=True\n",
    "        elif botRight_clicked==False:\n",
    "            pt2=(x,y)\n",
    "            botRight_clicked=True\n",
    "pt1=(0,0)\n",
    "pt2=(0,0)\n",
    "topLeft_clicked=False\n",
    "botRight_clicked=False\n",
    "cv2.namedWindow(winname=\"frame\")\n",
    "cv2.setMouseCallback(\"frame\",draw_rectangle)\n",
    "while True:\n",
    "    ret,frame=cap.read()\n",
    "    if topLeft_clicked==True:#to know where clicked\n",
    "        cv2.circle(frame,center=pt1,radius=5,color=(0,0,255),thickness=-1)\n",
    "    if topLeft_clicked and botRight_clicked:#checking both are quale to true\n",
    "        cv2.rectangle(frame,pt1,pt2,(0,0,255),3)\n",
    "    cv2.imshow(\"frame\",frame)\n",
    "    if cv2.waitKey(10) & 0xFF==ord('q'):\n",
    "        break\n",
    "cap.release()\n",
    "cv2.destroyAllWindows()"
   ]
  },
  {
   "cell_type": "code",
   "execution_count": null,
   "metadata": {},
   "outputs": [],
   "source": []
  }
 ],
 "metadata": {
  "kernelspec": {
   "display_name": "Python 3",
   "language": "python",
   "name": "python3"
  },
  "language_info": {
   "codemirror_mode": {
    "name": "ipython",
    "version": 3
   },
   "file_extension": ".py",
   "mimetype": "text/x-python",
   "name": "python",
   "nbconvert_exporter": "python",
   "pygments_lexer": "ipython3",
   "version": "3.6.6"
  }
 },
 "nbformat": 4,
 "nbformat_minor": 2
}
