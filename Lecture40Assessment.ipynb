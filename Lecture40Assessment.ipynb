{
 "cells": [
  {
   "cell_type": "code",
   "execution_count": 3,
   "metadata": {},
   "outputs": [],
   "source": [
    "import cv2\n",
    "cap=cv2.VideoCapture(0)\n",
    "def draw_circle(events,x,y,flags,param):\n",
    "    global pt,clicked\n",
    "    if events==cv2.EVENT_LBUTTONDOWN:\n",
    "        if clicked==True:\n",
    "            pt=(0,0)\n",
    "            clicked=False \n",
    "    if events==cv2.EVENT_LBUTTONUP:\n",
    "        pt=(x,y)\n",
    "        clicked=True\n",
    "pt=(0,0)\n",
    "clicked=False\n",
    "cv2.namedWindow(winname=\"frame\")\n",
    "cv2.setMouseCallback(\"frame\",draw_circle)\n",
    "while True:\n",
    "    ret,frame=cap.read()\n",
    "    if clicked==True:\n",
    "        cv2.circle(frame,center=pt,radius=100,color=(255,0,0),thickness=10)\n",
    "    cv2.imshow(\"frame\",frame)\n",
    "    if cv2.waitKey(10) & 0xff==ord('q'):\n",
    "        break\n",
    "cap.release()\n",
    "cv2.destroyAllWindows()"
   ]
  },
  {
   "cell_type": "code",
   "execution_count": null,
   "metadata": {},
   "outputs": [],
   "source": [
    "print(10)"
   ]
  },
  {
   "cell_type": "code",
   "execution_count": null,
   "metadata": {},
   "outputs": [],
   "source": []
  }
 ],
 "metadata": {
  "kernelspec": {
   "display_name": "Python 3",
   "language": "python",
   "name": "python3"
  },
  "language_info": {
   "codemirror_mode": {
    "name": "ipython",
    "version": 3
   },
   "file_extension": ".py",
   "mimetype": "text/x-python",
   "name": "python",
   "nbconvert_exporter": "python",
   "pygments_lexer": "ipython3",
   "version": "3.6.6"
  }
 },
 "nbformat": 4,
 "nbformat_minor": 2
}
