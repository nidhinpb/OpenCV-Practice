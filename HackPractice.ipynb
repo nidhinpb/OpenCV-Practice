{
 "cells": [
  {
   "cell_type": "code",
   "execution_count": 26,
   "metadata": {},
   "outputs": [
    {
     "name": "stdin",
     "output_type": "stream",
     "text": [
      " 17\n"
     ]
    },
    {
     "name": "stdout",
     "output_type": "stream",
     "text": [
      "1\t1\t1\t1\t\n",
      "\n",
      "2\t2\t2\t10\t\n",
      "\n",
      "3\t3\t3\t11\t\n",
      "\n",
      "4\t4\t4\t100\t\n",
      "\n",
      "5\t5\t5\t101\t\n",
      "\n",
      "6\t6\t6\t110\t\n",
      "\n",
      "7\t7\t7\t111\t\n",
      "\n",
      "8\t10\t8\t1000\t\n",
      "\n",
      "9\t11\t9\t1001\t\n",
      "\n",
      "10\t12\tA\t1010\t\n",
      "\n",
      "11\t13\tB\t1011\t\n",
      "\n",
      "12\t14\tC\t1100\t\n",
      "\n",
      "13\t15\tD\t1101\t\n",
      "\n",
      "14\t16\tE\t1110\t\n",
      "\n",
      "15\t17\tF\t1111\t\n",
      "\n",
      "16\t20\t10\t10000\t\n",
      "\n",
      "17\t21\t11\t10001\t\n",
      "\n"
     ]
    }
   ],
   "source": [
    "n=int(input())\n",
    "for i in range(1,n+1):\n",
    "    for j in oct(i):\n",
    "        if j==\"o\":\n",
    "            o=oct(i)[oct(i).index(j)+1:]\n",
    "    for j in hex(i):\n",
    "        if j==\"x\":\n",
    "            h=hex(i)[hex(i).index(j)+1:].upper()\n",
    "    for j in bin(i):\n",
    "        if j==\"b\":\n",
    "            b=bin(i)[bin(i).index(j)+1:]\n",
    "    print(i,o,h,b,\"\\n\",sep=\"\\t\")"
   ]
  },
  {
   "cell_type": "code",
   "execution_count": 9,
   "metadata": {},
   "outputs": [
    {
     "name": "stdin",
     "output_type": "stream",
     "text": [
      " 7 21\n"
     ]
    },
    {
     "name": "stdout",
     "output_type": "stream",
     "text": [
      "---------.|.---------\n",
      "------.|..|..|.------\n",
      "---.|..|..|..|..|.---\n",
      "-------Welcome-------\n",
      "---.|..|..|..|..|.---\n",
      "------.|..|..|.------\n",
      "---------.|.---------\n"
     ]
    }
   ],
   "source": [
    "n,m=tuple(map(int,input().split()))\n",
    "j=1\n",
    "for i in range(1,(n//2)+1):\n",
    "    print((\"-\"*((m-j*3)//2))+(\".|.\"*j)+(\"-\"*((m-j*3)//2)))\n",
    "    j=j+2\n",
    "print(\"Welcome\".center(m,\"-\"))\n",
    "j=j-2\n",
    "for i in range(1,(n//2)+1):\n",
    "    print((\"-\"*((m-j*3)//2))+(\".|.\"*j)+(\"-\"*((m-j*3)//2)))\n",
    "    j=j-2"
   ]
  },
  {
   "cell_type": "code",
   "execution_count": 33,
   "metadata": {},
   "outputs": [
    {
     "name": "stdout",
     "output_type": "stream",
     "text": [
      "100\n",
      "1000\n"
     ]
    }
   ],
   "source": [
    "print(\"100\".ljust(1,\" \"))\n",
    "print(\"1000\".ljust(1,\" \"))"
   ]
  },
  {
   "cell_type": "code",
   "execution_count": 53,
   "metadata": {},
   "outputs": [
    {
     "name": "stdin",
     "output_type": "stream",
     "text": [
      " 17\n"
     ]
    },
    {
     "name": "stdout",
     "output_type": "stream",
     "text": [
      "    1     1     1     1\n",
      "    2     2     2    10\n",
      "    3     3     3    11\n",
      "    4     4     4   100\n",
      "    5     5     5   101\n",
      "    6     6     6   110\n",
      "    7     7     7   111\n",
      "    8    10     8  1000\n",
      "    9    11     9  1001\n",
      "   10    12     A  1010\n",
      "   11    13     B  1011\n",
      "   12    14     C  1100\n",
      "   13    15     D  1101\n",
      "   14    16     E  1110\n",
      "   15    17     F  1111\n",
      "   16    20    10 10000\n",
      "   17    21    11 10001\n"
     ]
    }
   ],
   "source": [
    "def print_formatted(number):\n",
    "\n",
    "    width = len(\"{0:b}\".format(number))\n",
    "\n",
    "    for i in range(1, number + 1):\n",
    "        print(\"{0:{w}d} {0:{w}o} {0:{w}X} {0:{w}b}\".format(i, w = width))\n",
    "\n",
    "if __name__ == '__main__':\n",
    "    n = int(input())\n",
    "    print_formatted(n)"
   ]
  },
  {
   "cell_type": "code",
   "execution_count": null,
   "metadata": {},
   "outputs": [],
   "source": []
  },
  {
   "cell_type": "code",
   "execution_count": 41,
   "metadata": {},
   "outputs": [
    {
     "data": {
      "text/plain": [
       "'    F'"
      ]
     },
     "execution_count": 41,
     "metadata": {},
     "output_type": "execute_result"
    }
   ],
   "source": [
    "\"{0:5X}\".format(15)"
   ]
  },
  {
   "cell_type": "code",
   "execution_count": 44,
   "metadata": {},
   "outputs": [
    {
     "data": {
      "text/plain": [
       "122"
      ]
     },
     "execution_count": 44,
     "metadata": {},
     "output_type": "execute_result"
    }
   ],
   "source": [
    "ord('z')"
   ]
  },
  {
   "cell_type": "code",
   "execution_count": 51,
   "metadata": {},
   "outputs": [
    {
     "name": "stdout",
     "output_type": "stream",
     "text": [
      "{'a': 1, 'b': 2, 'c': 3, 'd': 4, 'e': 5, 'f': 6, 'g': 7, 'h': 8, 'i': 9, 'j': 10, 'k': 11, 'l': 12, 'm': 13, 'n': 14, 'o': 15, 'p': 16, 'q': 17, 'r': 18, 's': 19, 't': 20, 'u': 21, 'v': 22, 'w': 23, 'x': 24, 'y': 25, 'z': 26}\n"
     ]
    }
   ],
   "source": [
    "j=1\n",
    "d=dict()\n",
    "for i in range(ord('a'),ord('z')+1):\n",
    "    d[chr(i)]=j\n",
    "    j=j+1\n",
    "print(d)"
   ]
  },
  {
   "cell_type": "code",
   "execution_count": 52,
   "metadata": {},
   "outputs": [
    {
     "name": "stdout",
     "output_type": "stream",
     "text": [
      "abcdefghijklmnopqrstuvwxyz\n"
     ]
    }
   ],
   "source": [
    "import string\n",
    "alpha = string.ascii_lowercase\n",
    "print(alpha)"
   ]
  },
  {
   "cell_type": "code",
   "execution_count": null,
   "metadata": {},
   "outputs": [],
   "source": []
  }
 ],
 "metadata": {
  "kernelspec": {
   "display_name": "Python 3",
   "language": "python",
   "name": "python3"
  },
  "language_info": {
   "codemirror_mode": {
    "name": "ipython",
    "version": 3
   },
   "file_extension": ".py",
   "mimetype": "text/x-python",
   "name": "python",
   "nbconvert_exporter": "python",
   "pygments_lexer": "ipython3",
   "version": "3.6.6"
  }
 },
 "nbformat": 4,
 "nbformat_minor": 2
}
