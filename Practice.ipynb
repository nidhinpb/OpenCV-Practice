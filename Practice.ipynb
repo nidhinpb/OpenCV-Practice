{
 "cells": [
  {
   "cell_type": "raw",
   "metadata": {},
   "source": []
  },
  {
   "cell_type": "code",
   "execution_count": 38,
   "metadata": {},
   "outputs": [
    {
     "name": "stdin",
     "output_type": "stream",
     "text": [
      " 3\n",
      " Test1\n",
      " 52\n",
      " Test2\n",
      " 53\n",
      " Test3\n",
      " 53\n"
     ]
    }
   ],
   "source": [
    "ls1=list()\n",
    "n=int(input())\n",
    "for i in range(n):\n",
    "    ls1.append([input(),float(input())])\n",
    "temp=list()\n",
    "ls=list()\n",
    "for _ in range(n-1):\n",
    "    for i in range(n-1):\n",
    "        if ls1[i][1] < ls1[i+1][1]:\n",
    "            temp=ls1[i]\n",
    "            ls1[i]=ls1[i+1]\n",
    "            ls1[i+1]=temp"
   ]
  },
  {
   "cell_type": "code",
   "execution_count": 39,
   "metadata": {},
   "outputs": [
    {
     "name": "stdout",
     "output_type": "stream",
     "text": [
      "[52.0, 53.0]\n",
      "[52.0]\n",
      "Test1\n"
     ]
    }
   ],
   "source": [
    "ls3=list()\n",
    "ls2=list()\n",
    "for i in range(n):\n",
    "    ls.append(ls1[i][1])\n",
    "print(list(sorted(set(ls))))\n",
    "ls2=list(sorted(set(ls)))\n",
    "ls2.pop()\n",
    "print(ls2)\n",
    "for i in range(n):\n",
    "    if ls1[i][1]==ls2[-1]:\n",
    "        ls3.append(ls1[i][0])\n",
    "for i in sorted(ls3):\n",
    "    print(i)"
   ]
  },
  {
   "cell_type": "code",
   "execution_count": 47,
   "metadata": {},
   "outputs": [
    {
     "name": "stdin",
     "output_type": "stream",
     "text": [
      " 2\n",
      " Harsh 25 26.5 28\n",
      " Anurag 26 28 30\n",
      " Harsh\n"
     ]
    },
    {
     "name": "stdout",
     "output_type": "stream",
     "text": [
      "26.50\n"
     ]
    }
   ],
   "source": [
    "n = int(input())\n",
    "student_marks = {}\n",
    "for _ in range(n):\n",
    "    name, *line = input().split()\n",
    "    scores = list(map(float, line))\n",
    "    student_marks[name] = scores\n",
    "query_name = input()\n",
    "for key,val in student_marks.items():\n",
    "    if query_name==key:\n",
    "        print(\"{:.2f}\".format(sum(val)/3))"
   ]
  },
  {
   "cell_type": "code",
   "execution_count": null,
   "metadata": {},
   "outputs": [],
   "source": []
  },
  {
   "cell_type": "code",
   "execution_count": null,
   "metadata": {},
   "outputs": [],
   "source": []
  }
 ],
 "metadata": {
  "kernelspec": {
   "display_name": "Python 3",
   "language": "python",
   "name": "python3"
  },
  "language_info": {
   "codemirror_mode": {
    "name": "ipython",
    "version": 3
   },
   "file_extension": ".py",
   "mimetype": "text/x-python",
   "name": "python",
   "nbconvert_exporter": "python",
   "pygments_lexer": "ipython3",
   "version": "3.6.6"
  }
 },
 "nbformat": 4,
 "nbformat_minor": 2
}
